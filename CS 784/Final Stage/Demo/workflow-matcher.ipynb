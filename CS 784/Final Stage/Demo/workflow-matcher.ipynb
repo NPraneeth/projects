{
 "cells": [
  {
   "cell_type": "code",
   "execution_count": 1,
   "metadata": {
    "collapsed": false
   },
   "outputs": [
    {
     "name": "stderr",
     "output_type": "stream",
     "text": [
      "DEBUG:Cloud:Log file (/Users/Praneeth/.picloud/cloud.log) opened\n"
     ]
    }
   ],
   "source": [
    "import magellan as mg"
   ]
  },
  {
   "cell_type": "code",
   "execution_count": 3,
   "metadata": {
    "collapsed": false
   },
   "outputs": [
    {
     "data": {
      "text/plain": [
       "True"
      ]
     },
     "execution_count": 3,
     "metadata": {},
     "output_type": "execute_result"
    }
   ],
   "source": [
    "mg.init_jvm('/Library/Java/JavaVirtualMachines/jdk1.7.0_79.jdk/Contents/Home/jre/lib/server/libjvm.dylib')"
   ]
  },
  {
   "cell_type": "code",
   "execution_count": 4,
   "metadata": {
    "collapsed": true
   },
   "outputs": [],
   "source": [
    "# read tables\n",
    "A = mg.read_csv('DBLP.csv', key='id')\n",
    "B = mg.read_csv('ACM.csv', key='id')"
   ]
  },
  {
   "cell_type": "code",
   "execution_count": 5,
   "metadata": {
    "collapsed": false
   },
   "outputs": [
    {
     "data": {
      "text/html": [
       "<div>\n",
       "<table border=\"1\" class=\"dataframe\">\n",
       "  <thead>\n",
       "    <tr style=\"text-align: right;\">\n",
       "      <th></th>\n",
       "      <th>id</th>\n",
       "      <th>title</th>\n",
       "      <th>authors</th>\n",
       "      <th>venue</th>\n",
       "      <th>year</th>\n",
       "    </tr>\n",
       "  </thead>\n",
       "  <tbody>\n",
       "    <tr>\n",
       "      <th>0</th>\n",
       "      <td>journals/sigmod/Mackay99</td>\n",
       "      <td>Semantic Integration of Environmental Models f...</td>\n",
       "      <td>D. Scott Mackay</td>\n",
       "      <td>SIGMOD Record</td>\n",
       "      <td>1999</td>\n",
       "    </tr>\n",
       "    <tr>\n",
       "      <th>1</th>\n",
       "      <td>conf/vldb/PoosalaI96</td>\n",
       "      <td>Estimation of Query-Result Distribution and it...</td>\n",
       "      <td>Viswanath Poosala, Yannis E. Ioannidis</td>\n",
       "      <td>VLDB</td>\n",
       "      <td>1996</td>\n",
       "    </tr>\n",
       "  </tbody>\n",
       "</table>\n",
       "</div>"
      ],
      "text/plain": [
       "                         id  \\\n",
       "0  journals/sigmod/Mackay99   \n",
       "1      conf/vldb/PoosalaI96   \n",
       "\n",
       "                                               title  \\\n",
       "0  Semantic Integration of Environmental Models f...   \n",
       "1  Estimation of Query-Result Distribution and it...   \n",
       "\n",
       "                                  authors          venue  year  \n",
       "0                         D. Scott Mackay  SIGMOD Record  1999  \n",
       "1  Viswanath Poosala, Yannis E. Ioannidis           VLDB  1996  "
      ]
     },
     "execution_count": 5,
     "metadata": {},
     "output_type": "execute_result"
    }
   ],
   "source": [
    "A.head(2)"
   ]
  },
  {
   "cell_type": "code",
   "execution_count": 6,
   "metadata": {
    "collapsed": false
   },
   "outputs": [
    {
     "data": {
      "text/html": [
       "<div>\n",
       "<table border=\"1\" class=\"dataframe\">\n",
       "  <thead>\n",
       "    <tr style=\"text-align: right;\">\n",
       "      <th></th>\n",
       "      <th>id</th>\n",
       "      <th>title</th>\n",
       "      <th>authors</th>\n",
       "      <th>venue</th>\n",
       "      <th>year</th>\n",
       "    </tr>\n",
       "  </thead>\n",
       "  <tbody>\n",
       "    <tr>\n",
       "      <th>0</th>\n",
       "      <td>304586</td>\n",
       "      <td>The WASA2 object-oriented workflow management ...</td>\n",
       "      <td>Gottfried Vossen, Mathias Weske</td>\n",
       "      <td>International Conference on Management of Data</td>\n",
       "      <td>1999</td>\n",
       "    </tr>\n",
       "    <tr>\n",
       "      <th>1</th>\n",
       "      <td>304587</td>\n",
       "      <td>A user-centered interface for querying distrib...</td>\n",
       "      <td>Isabel F. Cruz, Kimberly M. James</td>\n",
       "      <td>International Conference on Management of Data</td>\n",
       "      <td>1999</td>\n",
       "    </tr>\n",
       "  </tbody>\n",
       "</table>\n",
       "</div>"
      ],
      "text/plain": [
       "       id                                              title  \\\n",
       "0  304586  The WASA2 object-oriented workflow management ...   \n",
       "1  304587  A user-centered interface for querying distrib...   \n",
       "\n",
       "                             authors  \\\n",
       "0    Gottfried Vossen, Mathias Weske   \n",
       "1  Isabel F. Cruz, Kimberly M. James   \n",
       "\n",
       "                                            venue  year  \n",
       "0  International Conference on Management of Data  1999  \n",
       "1  International Conference on Management of Data  1999  "
      ]
     },
     "execution_count": 6,
     "metadata": {},
     "output_type": "execute_result"
    }
   ],
   "source": [
    "B.head(2)"
   ]
  },
  {
   "cell_type": "code",
   "execution_count": 7,
   "metadata": {
    "collapsed": false
   },
   "outputs": [
    {
     "data": {
      "text/plain": [
       "62392"
      ]
     },
     "execution_count": 7,
     "metadata": {},
     "output_type": "execute_result"
    }
   ],
   "source": [
    "# Blocking - already done and stored in tableC.csv\n",
    "C = mg.read_csv('tableC.csv', ltable=A, rtable=B)\n",
    "len(C)"
   ]
  },
  {
   "cell_type": "code",
   "execution_count": 8,
   "metadata": {
    "collapsed": true
   },
   "outputs": [],
   "source": [
    "# Plan\n",
    "\n",
    "# 1. Sample candidate set --> S\n",
    "# 2. Label S --> G\n",
    "# 3. Split G into development set I, and evaluation set J\n",
    "# 4. Select best learning-based matcher Y, using I \n",
    "# 5. Add triggers to Y ---> Z\n",
    "# 6. Evaluate Z using J"
   ]
  },
  {
   "cell_type": "code",
   "execution_count": 9,
   "metadata": {
    "collapsed": true
   },
   "outputs": [],
   "source": [
    "# Sample the candidate set\n",
    "S = mg.sample_table(C, 450)"
   ]
  },
  {
   "cell_type": "code",
   "execution_count": 10,
   "metadata": {
    "collapsed": false
   },
   "outputs": [
    {
     "name": "stdout",
     "output_type": "stream",
     "text": [
      "Help on function sample_table in module magellan.sampler.sampler:\n",
      "\n",
      "sample_table(table, size, replace=False)\n",
      "    Sample MTable\n",
      "    \n",
      "    Parameters\n",
      "    ----------\n",
      "    table : MTable, input table to be sampled\n",
      "    size : int, number of samples\n",
      "    replace : boolean, whether sampling should be done with replacement.\n",
      "            By default, it is set to False.\n",
      "    \n",
      "    Returns\n",
      "    -------\n",
      "    sampled_table: MTable, sampled table\n",
      "\n"
     ]
    }
   ],
   "source": [
    "help(mg.sample_table)"
   ]
  },
  {
   "cell_type": "code",
   "execution_count": 11,
   "metadata": {
    "collapsed": false
   },
   "outputs": [
    {
     "name": "stderr",
     "output_type": "stream",
     "text": [
      "/Users/Praneeth/anaconda/lib/python2.7/site-packages/Magellan-0.1-py2.7.egg/magellan/gui/mtable_gui.py:29: FutureWarning: iget_value(i, j) is deprecated. Please use .iat[i, j]\n",
      "  datatable.setItem(i, j, QtGui.QTableWidgetItem(str(tbl.iget_value(i, j))))\n",
      "/Users/Praneeth/anaconda/lib/python2.7/site-packages/Magellan-0.1-py2.7.egg/magellan/gui/mtable_gui.py:58: FutureWarning: iget_value(i, j) is deprecated. Please use .iat[i, j]\n",
      "  inp = tbl.iget_value(i, j)\n"
     ]
    }
   ],
   "source": [
    "# Label S\n",
    "G = mg.label_table(S, 'gold')"
   ]
  },
  {
   "cell_type": "code",
   "execution_count": 12,
   "metadata": {
    "collapsed": false
   },
   "outputs": [
    {
     "data": {
      "text/plain": [
       "415"
      ]
     },
     "execution_count": 12,
     "metadata": {},
     "output_type": "execute_result"
    }
   ],
   "source": [
    "# For the demo, use pre-labeled data\n",
    "G = mg.read_csv('dblp_acm_demo_labels.csv', ltable=A, rtable=B)\n",
    "len(G)"
   ]
  },
  {
   "cell_type": "code",
   "execution_count": 13,
   "metadata": {
    "collapsed": false
   },
   "outputs": [],
   "source": [
    "# Split G into development (I) and evaluation (J)\n",
    "IJ = mg.train_test_split(G, train_proportion=0.7)\n",
    "I = IJ['train']\n",
    "J = IJ['test']"
   ]
  },
  {
   "cell_type": "code",
   "execution_count": 14,
   "metadata": {
    "collapsed": false
   },
   "outputs": [
    {
     "data": {
      "text/plain": [
       "(290, 125)"
      ]
     },
     "execution_count": 14,
     "metadata": {},
     "output_type": "execute_result"
    }
   ],
   "source": [
    "# check the number of tuples in I and J\n",
    "(len(I), len(J))"
   ]
  },
  {
   "cell_type": "code",
   "execution_count": 15,
   "metadata": {
    "collapsed": true
   },
   "outputs": [],
   "source": [
    "# Selecting the best learning-based matcher using I\n",
    "\n",
    "# Plan \n",
    "\n",
    "# 1. Create a set of ML-matchers\n",
    "# 2. Generate features --> feature_table\n",
    "# 3. Extract feature vectors using I and feature_table\n",
    "# 4. Select best learning-based matcher using CV\n",
    "# 5. Debug the selected matcher (and repeat the above steps)"
   ]
  },
  {
   "cell_type": "code",
   "execution_count": 16,
   "metadata": {
    "collapsed": true
   },
   "outputs": [],
   "source": [
    "# Create a set of ML-matchers\n",
    "dt = mg.DTMatcher(name='DecisionTree', random_state=0)\n",
    "svm = mg.SVMMatcher()\n",
    "rf = mg.RFMatcher(name='RF', random_state=0)\n",
    "nb = mg.NBMatcher(name='NB')\n",
    "lg = mg.LogRegMatcher(name='LogReg')\n",
    "ln = mg.LinRegMatcher(name='LinReg')"
   ]
  },
  {
   "cell_type": "code",
   "execution_count": 17,
   "metadata": {
    "collapsed": false
   },
   "outputs": [
    {
     "data": {
      "text/plain": [
       "('DecisionTree', 'SVM_65497902146617138441')"
      ]
     },
     "execution_count": 17,
     "metadata": {},
     "output_type": "execute_result"
    }
   ],
   "source": [
    "# check names of the matchers\n",
    "(dt.name, svm.name)"
   ]
  },
  {
   "cell_type": "code",
   "execution_count": 18,
   "metadata": {
    "collapsed": false
   },
   "outputs": [
    {
     "name": "stderr",
     "output_type": "stream",
     "text": [
      "WARNING:magellan.feature.autofeaturegen:Magellan types: id type (str_eq_1w) and id type (numeric) are different.If you want to set them to be same and generate features, update output from get_attr_types and use get_features command.\n",
      "\n",
      "WARNING:magellan.feature.autofeaturegen:Magellan types: venue type (str_bt_1w_5w) and venue type (str_bt_5w_10w) are different.If you want to set them to be same and generate features, update output from get_attr_types and use get_features command.\n",
      "\n"
     ]
    }
   ],
   "source": [
    "# Generate features\n",
    "feat_table = mg.get_features_for_matching(A, B)"
   ]
  },
  {
   "cell_type": "code",
   "execution_count": 19,
   "metadata": {
    "collapsed": false
   },
   "outputs": [
    {
     "data": {
      "text/html": [
       "<div>\n",
       "<table border=\"1\" class=\"dataframe\">\n",
       "  <thead>\n",
       "    <tr style=\"text-align: right;\">\n",
       "      <th></th>\n",
       "      <th>feature_name</th>\n",
       "      <th>left_attribute</th>\n",
       "      <th>right_attribute</th>\n",
       "      <th>left_attr_tokenizer</th>\n",
       "      <th>right_attr_tokenizer</th>\n",
       "      <th>simfunction</th>\n",
       "      <th>function</th>\n",
       "      <th>function_source</th>\n",
       "    </tr>\n",
       "  </thead>\n",
       "  <tbody>\n",
       "    <tr>\n",
       "      <th>0</th>\n",
       "      <td>title_title_jac_qgm_3_qgm_3</td>\n",
       "      <td>title</td>\n",
       "      <td>title</td>\n",
       "      <td>qgm_3</td>\n",
       "      <td>qgm_3</td>\n",
       "      <td>jaccard</td>\n",
       "      <td>&lt;function title_title_jac_qgm_3_qgm_3 at 0x120...</td>\n",
       "      <td>from magellan.feature.simfunctions import *\\nf...</td>\n",
       "    </tr>\n",
       "    <tr>\n",
       "      <th>1</th>\n",
       "      <td>title_title_cos_dlm_dc0_dlm_dc0</td>\n",
       "      <td>title</td>\n",
       "      <td>title</td>\n",
       "      <td>dlm_dc0</td>\n",
       "      <td>dlm_dc0</td>\n",
       "      <td>cosine</td>\n",
       "      <td>&lt;function title_title_cos_dlm_dc0_dlm_dc0 at 0...</td>\n",
       "      <td>from magellan.feature.simfunctions import *\\nf...</td>\n",
       "    </tr>\n",
       "    <tr>\n",
       "      <th>2</th>\n",
       "      <td>title_title_mel</td>\n",
       "      <td>title</td>\n",
       "      <td>title</td>\n",
       "      <td>None</td>\n",
       "      <td>None</td>\n",
       "      <td>monge_elkan</td>\n",
       "      <td>&lt;function title_title_mel at 0x120901410&gt;</td>\n",
       "      <td>from magellan.feature.simfunctions import *\\nf...</td>\n",
       "    </tr>\n",
       "    <tr>\n",
       "      <th>3</th>\n",
       "      <td>title_title_lev</td>\n",
       "      <td>title</td>\n",
       "      <td>title</td>\n",
       "      <td>None</td>\n",
       "      <td>None</td>\n",
       "      <td>lev</td>\n",
       "      <td>&lt;function title_title_lev at 0x120901398&gt;</td>\n",
       "      <td>from magellan.feature.simfunctions import *\\nf...</td>\n",
       "    </tr>\n",
       "    <tr>\n",
       "      <th>4</th>\n",
       "      <td>authors_authors_jac_qgm_3_qgm_3</td>\n",
       "      <td>authors</td>\n",
       "      <td>authors</td>\n",
       "      <td>qgm_3</td>\n",
       "      <td>qgm_3</td>\n",
       "      <td>jaccard</td>\n",
       "      <td>&lt;function authors_authors_jac_qgm_3_qgm_3 at 0...</td>\n",
       "      <td>from magellan.feature.simfunctions import *\\nf...</td>\n",
       "    </tr>\n",
       "    <tr>\n",
       "      <th>5</th>\n",
       "      <td>authors_authors_cos_dlm_dc0_dlm_dc0</td>\n",
       "      <td>authors</td>\n",
       "      <td>authors</td>\n",
       "      <td>dlm_dc0</td>\n",
       "      <td>dlm_dc0</td>\n",
       "      <td>cosine</td>\n",
       "      <td>&lt;function authors_authors_cos_dlm_dc0_dlm_dc0 ...</td>\n",
       "      <td>from magellan.feature.simfunctions import *\\nf...</td>\n",
       "    </tr>\n",
       "    <tr>\n",
       "      <th>6</th>\n",
       "      <td>authors_authors_mel</td>\n",
       "      <td>authors</td>\n",
       "      <td>authors</td>\n",
       "      <td>None</td>\n",
       "      <td>None</td>\n",
       "      <td>monge_elkan</td>\n",
       "      <td>&lt;function authors_authors_mel at 0x120901578&gt;</td>\n",
       "      <td>from magellan.feature.simfunctions import *\\nf...</td>\n",
       "    </tr>\n",
       "    <tr>\n",
       "      <th>7</th>\n",
       "      <td>authors_authors_lev</td>\n",
       "      <td>authors</td>\n",
       "      <td>authors</td>\n",
       "      <td>None</td>\n",
       "      <td>None</td>\n",
       "      <td>lev</td>\n",
       "      <td>&lt;function authors_authors_lev at 0x1209015f0&gt;</td>\n",
       "      <td>from magellan.feature.simfunctions import *\\nf...</td>\n",
       "    </tr>\n",
       "    <tr>\n",
       "      <th>8</th>\n",
       "      <td>year_year_exm</td>\n",
       "      <td>year</td>\n",
       "      <td>year</td>\n",
       "      <td>None</td>\n",
       "      <td>None</td>\n",
       "      <td>exact_match</td>\n",
       "      <td>&lt;function year_year_exm at 0x120901668&gt;</td>\n",
       "      <td>from magellan.feature.simfunctions import *\\nf...</td>\n",
       "    </tr>\n",
       "    <tr>\n",
       "      <th>9</th>\n",
       "      <td>year_year_anm</td>\n",
       "      <td>year</td>\n",
       "      <td>year</td>\n",
       "      <td>None</td>\n",
       "      <td>None</td>\n",
       "      <td>abs_norm</td>\n",
       "      <td>&lt;function year_year_anm at 0x1209016e0&gt;</td>\n",
       "      <td>from magellan.feature.simfunctions import *\\nf...</td>\n",
       "    </tr>\n",
       "    <tr>\n",
       "      <th>10</th>\n",
       "      <td>year_year_lev</td>\n",
       "      <td>year</td>\n",
       "      <td>year</td>\n",
       "      <td>None</td>\n",
       "      <td>None</td>\n",
       "      <td>lev</td>\n",
       "      <td>&lt;function year_year_lev at 0x120901758&gt;</td>\n",
       "      <td>from magellan.feature.simfunctions import *\\nf...</td>\n",
       "    </tr>\n",
       "  </tbody>\n",
       "</table>\n",
       "</div>"
      ],
      "text/plain": [
       "                           feature_name left_attribute right_attribute  \\\n",
       "0           title_title_jac_qgm_3_qgm_3          title           title   \n",
       "1       title_title_cos_dlm_dc0_dlm_dc0          title           title   \n",
       "2                       title_title_mel          title           title   \n",
       "3                       title_title_lev          title           title   \n",
       "4       authors_authors_jac_qgm_3_qgm_3        authors         authors   \n",
       "5   authors_authors_cos_dlm_dc0_dlm_dc0        authors         authors   \n",
       "6                   authors_authors_mel        authors         authors   \n",
       "7                   authors_authors_lev        authors         authors   \n",
       "8                         year_year_exm           year            year   \n",
       "9                         year_year_anm           year            year   \n",
       "10                        year_year_lev           year            year   \n",
       "\n",
       "   left_attr_tokenizer right_attr_tokenizer  simfunction  \\\n",
       "0                qgm_3                qgm_3      jaccard   \n",
       "1              dlm_dc0              dlm_dc0       cosine   \n",
       "2                 None                 None  monge_elkan   \n",
       "3                 None                 None          lev   \n",
       "4                qgm_3                qgm_3      jaccard   \n",
       "5              dlm_dc0              dlm_dc0       cosine   \n",
       "6                 None                 None  monge_elkan   \n",
       "7                 None                 None          lev   \n",
       "8                 None                 None  exact_match   \n",
       "9                 None                 None     abs_norm   \n",
       "10                None                 None          lev   \n",
       "\n",
       "                                             function  \\\n",
       "0   <function title_title_jac_qgm_3_qgm_3 at 0x120...   \n",
       "1   <function title_title_cos_dlm_dc0_dlm_dc0 at 0...   \n",
       "2           <function title_title_mel at 0x120901410>   \n",
       "3           <function title_title_lev at 0x120901398>   \n",
       "4   <function authors_authors_jac_qgm_3_qgm_3 at 0...   \n",
       "5   <function authors_authors_cos_dlm_dc0_dlm_dc0 ...   \n",
       "6       <function authors_authors_mel at 0x120901578>   \n",
       "7       <function authors_authors_lev at 0x1209015f0>   \n",
       "8             <function year_year_exm at 0x120901668>   \n",
       "9             <function year_year_anm at 0x1209016e0>   \n",
       "10            <function year_year_lev at 0x120901758>   \n",
       "\n",
       "                                      function_source  \n",
       "0   from magellan.feature.simfunctions import *\\nf...  \n",
       "1   from magellan.feature.simfunctions import *\\nf...  \n",
       "2   from magellan.feature.simfunctions import *\\nf...  \n",
       "3   from magellan.feature.simfunctions import *\\nf...  \n",
       "4   from magellan.feature.simfunctions import *\\nf...  \n",
       "5   from magellan.feature.simfunctions import *\\nf...  \n",
       "6   from magellan.feature.simfunctions import *\\nf...  \n",
       "7   from magellan.feature.simfunctions import *\\nf...  \n",
       "8   from magellan.feature.simfunctions import *\\nf...  \n",
       "9   from magellan.feature.simfunctions import *\\nf...  \n",
       "10  from magellan.feature.simfunctions import *\\nf...  "
      ]
     },
     "execution_count": 19,
     "metadata": {},
     "output_type": "execute_result"
    }
   ],
   "source": [
    "feat_table"
   ]
  },
  {
   "cell_type": "code",
   "execution_count": 20,
   "metadata": {
    "collapsed": false
   },
   "outputs": [
    {
     "data": {
      "text/plain": [
       "{'abs_norm': <function magellan.feature.simfunctions.abs_norm>,\n",
       " 'cosine': <function magellan.feature.simfunctions.cosine>,\n",
       " 'exact_match': <function magellan.feature.simfunctions.exact_match>,\n",
       " 'jaccard': <function magellan.feature.simfunctions.jaccard>,\n",
       " 'jaro': <function magellan.feature.simfunctions.jaro>,\n",
       " 'jaro_winkler': <function magellan.feature.simfunctions.jaro_winkler>,\n",
       " 'lev': <function magellan.feature.simfunctions.lev>,\n",
       " 'monge_elkan': <function magellan.feature.simfunctions.monge_elkan>,\n",
       " 'needleman_wunsch': <function magellan.feature.simfunctions.needleman_wunsch>,\n",
       " 'rel_diff': <function magellan.feature.simfunctions.rel_diff>,\n",
       " 'smith_waterman': <function magellan.feature.simfunctions.smith_waterman>,\n",
       " 'smith_waterman_gotoh': <function magellan.feature.simfunctions.smith_waterman_gotoh>,\n",
       " 'soundex': <function magellan.feature.simfunctions.soundex>}"
      ]
     },
     "execution_count": 20,
     "metadata": {},
     "output_type": "execute_result"
    }
   ],
   "source": [
    "mg._match_s"
   ]
  },
  {
   "cell_type": "code",
   "execution_count": 21,
   "metadata": {
    "collapsed": false
   },
   "outputs": [
    {
     "data": {
      "text/plain": [
       "{'dlm_dc0': <function magellan.feature.tokenizers.tok_delim>,\n",
       " 'qgm_2': <function magellan.feature.tokenizers.tok_qgram>,\n",
       " 'qgm_3': <function magellan.feature.tokenizers.tok_qgram>}"
      ]
     },
     "execution_count": 21,
     "metadata": {},
     "output_type": "execute_result"
    }
   ],
   "source": [
    "mg._match_t"
   ]
  },
  {
   "cell_type": "code",
   "execution_count": 22,
   "metadata": {
    "collapsed": false
   },
   "outputs": [
    {
     "data": {
      "text/plain": [
       "[('id', 'id'),\n",
       " ('title', 'title'),\n",
       " ('authors', 'authors'),\n",
       " ('venue', 'venue'),\n",
       " ('year', 'year')]"
      ]
     },
     "execution_count": 22,
     "metadata": {},
     "output_type": "execute_result"
    }
   ],
   "source": [
    "mg._match_c['corres']"
   ]
  },
  {
   "cell_type": "code",
   "execution_count": 23,
   "metadata": {
    "collapsed": true
   },
   "outputs": [],
   "source": [
    "# NOTE:\n",
    "# For the demo purposes, use only 'venue', 'year' related features to get the best learning-based matcher \n",
    "# and use 'title', 'author' related features to write triggers."
   ]
  },
  {
   "cell_type": "code",
   "execution_count": 24,
   "metadata": {
    "collapsed": false
   },
   "outputs": [],
   "source": [
    "# Select 'year' related features\n",
    "feat_subset_iter1 = feat_table[8:11]"
   ]
  },
  {
   "cell_type": "code",
   "execution_count": 25,
   "metadata": {
    "collapsed": false
   },
   "outputs": [],
   "source": [
    "# Get feature vectors\n",
    "K = mg.extract_feature_vecs(I, feature_table=feat_subset_iter1, attrs_after='gold')"
   ]
  },
  {
   "cell_type": "code",
   "execution_count": 26,
   "metadata": {
    "collapsed": false
   },
   "outputs": [
    {
     "data": {
      "text/html": [
       "<div>\n",
       "<table border=\"1\" class=\"dataframe\">\n",
       "  <thead>\n",
       "    <tr style=\"text-align: right;\">\n",
       "      <th></th>\n",
       "      <th>_id</th>\n",
       "      <th>ltable.id</th>\n",
       "      <th>rtable.id</th>\n",
       "      <th>year_year_exm</th>\n",
       "      <th>year_year_anm</th>\n",
       "      <th>year_year_lev</th>\n",
       "      <th>gold</th>\n",
       "    </tr>\n",
       "  </thead>\n",
       "  <tbody>\n",
       "    <tr>\n",
       "      <th>0</th>\n",
       "      <td>0</td>\n",
       "      <td>conf/vldb/FuhDCMTLDRM99</td>\n",
       "      <td>671520</td>\n",
       "      <td>1</td>\n",
       "      <td>1</td>\n",
       "      <td>0.666667</td>\n",
       "      <td>1</td>\n",
       "    </tr>\n",
       "    <tr>\n",
       "      <th>1</th>\n",
       "      <td>1</td>\n",
       "      <td>journals/sigmod/SmithO99</td>\n",
       "      <td>304204</td>\n",
       "      <td>1</td>\n",
       "      <td>1</td>\n",
       "      <td>0.666667</td>\n",
       "      <td>0</td>\n",
       "    </tr>\n",
       "    <tr>\n",
       "      <th>2</th>\n",
       "      <td>2</td>\n",
       "      <td>conf/sigmod/FegarasSRM00</td>\n",
       "      <td>335494</td>\n",
       "      <td>1</td>\n",
       "      <td>1</td>\n",
       "      <td>0.666667</td>\n",
       "      <td>1</td>\n",
       "    </tr>\n",
       "    <tr>\n",
       "      <th>3</th>\n",
       "      <td>3</td>\n",
       "      <td>conf/vldb/SeidlK97</td>\n",
       "      <td>673655</td>\n",
       "      <td>1</td>\n",
       "      <td>1</td>\n",
       "      <td>0.666667</td>\n",
       "      <td>1</td>\n",
       "    </tr>\n",
       "    <tr>\n",
       "      <th>4</th>\n",
       "      <td>4</td>\n",
       "      <td>conf/sigmod/RundensteinerKZWLLN99</td>\n",
       "      <td>304574</td>\n",
       "      <td>1</td>\n",
       "      <td>1</td>\n",
       "      <td>0.666667</td>\n",
       "      <td>1</td>\n",
       "    </tr>\n",
       "  </tbody>\n",
       "</table>\n",
       "</div>"
      ],
      "text/plain": [
       "   _id                          ltable.id  rtable.id  year_year_exm  \\\n",
       "0    0            conf/vldb/FuhDCMTLDRM99     671520              1   \n",
       "1    1           journals/sigmod/SmithO99     304204              1   \n",
       "2    2           conf/sigmod/FegarasSRM00     335494              1   \n",
       "3    3                 conf/vldb/SeidlK97     673655              1   \n",
       "4    4  conf/sigmod/RundensteinerKZWLLN99     304574              1   \n",
       "\n",
       "   year_year_anm  year_year_lev  gold  \n",
       "0              1       0.666667     1  \n",
       "1              1       0.666667     0  \n",
       "2              1       0.666667     1  \n",
       "3              1       0.666667     1  \n",
       "4              1       0.666667     1  "
      ]
     },
     "execution_count": 26,
     "metadata": {},
     "output_type": "execute_result"
    }
   ],
   "source": [
    "K.head()"
   ]
  },
  {
   "cell_type": "code",
   "execution_count": 27,
   "metadata": {
    "collapsed": true
   },
   "outputs": [],
   "source": [
    "# impute K\n",
    "K.fillna(0, inplace=True)"
   ]
  },
  {
   "cell_type": "code",
   "execution_count": 28,
   "metadata": {
    "collapsed": false
   },
   "outputs": [
    {
     "data": {
      "text/html": [
       "<div>\n",
       "<table border=\"1\" class=\"dataframe\">\n",
       "  <thead>\n",
       "    <tr style=\"text-align: right;\">\n",
       "      <th></th>\n",
       "      <th>_id</th>\n",
       "      <th>ltable.id</th>\n",
       "      <th>rtable.id</th>\n",
       "      <th>year_year_exm</th>\n",
       "      <th>year_year_anm</th>\n",
       "      <th>year_year_lev</th>\n",
       "      <th>gold</th>\n",
       "    </tr>\n",
       "  </thead>\n",
       "  <tbody>\n",
       "    <tr>\n",
       "      <th>0</th>\n",
       "      <td>0</td>\n",
       "      <td>conf/vldb/FuhDCMTLDRM99</td>\n",
       "      <td>671520</td>\n",
       "      <td>1</td>\n",
       "      <td>1</td>\n",
       "      <td>0.666667</td>\n",
       "      <td>1</td>\n",
       "    </tr>\n",
       "    <tr>\n",
       "      <th>1</th>\n",
       "      <td>1</td>\n",
       "      <td>journals/sigmod/SmithO99</td>\n",
       "      <td>304204</td>\n",
       "      <td>1</td>\n",
       "      <td>1</td>\n",
       "      <td>0.666667</td>\n",
       "      <td>0</td>\n",
       "    </tr>\n",
       "    <tr>\n",
       "      <th>2</th>\n",
       "      <td>2</td>\n",
       "      <td>conf/sigmod/FegarasSRM00</td>\n",
       "      <td>335494</td>\n",
       "      <td>1</td>\n",
       "      <td>1</td>\n",
       "      <td>0.666667</td>\n",
       "      <td>1</td>\n",
       "    </tr>\n",
       "    <tr>\n",
       "      <th>3</th>\n",
       "      <td>3</td>\n",
       "      <td>conf/vldb/SeidlK97</td>\n",
       "      <td>673655</td>\n",
       "      <td>1</td>\n",
       "      <td>1</td>\n",
       "      <td>0.666667</td>\n",
       "      <td>1</td>\n",
       "    </tr>\n",
       "    <tr>\n",
       "      <th>4</th>\n",
       "      <td>4</td>\n",
       "      <td>conf/sigmod/RundensteinerKZWLLN99</td>\n",
       "      <td>304574</td>\n",
       "      <td>1</td>\n",
       "      <td>1</td>\n",
       "      <td>0.666667</td>\n",
       "      <td>1</td>\n",
       "    </tr>\n",
       "  </tbody>\n",
       "</table>\n",
       "</div>"
      ],
      "text/plain": [
       "   _id                          ltable.id  rtable.id  year_year_exm  \\\n",
       "0    0            conf/vldb/FuhDCMTLDRM99     671520              1   \n",
       "1    1           journals/sigmod/SmithO99     304204              1   \n",
       "2    2           conf/sigmod/FegarasSRM00     335494              1   \n",
       "3    3                 conf/vldb/SeidlK97     673655              1   \n",
       "4    4  conf/sigmod/RundensteinerKZWLLN99     304574              1   \n",
       "\n",
       "   year_year_anm  year_year_lev  gold  \n",
       "0              1       0.666667     1  \n",
       "1              1       0.666667     0  \n",
       "2              1       0.666667     1  \n",
       "3              1       0.666667     1  \n",
       "4              1       0.666667     1  "
      ]
     },
     "execution_count": 28,
     "metadata": {},
     "output_type": "execute_result"
    }
   ],
   "source": [
    "K.head()"
   ]
  },
  {
   "cell_type": "code",
   "execution_count": 29,
   "metadata": {
    "collapsed": false
   },
   "outputs": [],
   "source": [
    "# select the best ML matcher using CV\n",
    "result = mg.select_matcher([dt, rf, svm, nb, lg, ln], table=K, \n",
    "        exclude_attrs=['_id', 'ltable.id', 'rtable.id', 'gold'],\n",
    "        target_attr='gold', metric='precision', random_state=0) "
   ]
  },
  {
   "cell_type": "code",
   "execution_count": 100,
   "metadata": {
    "collapsed": false
   },
   "outputs": [
    {
     "data": {
      "text/plain": [
       "<magellan.matcher.dtmatcher.DTMatcher at 0x11ec5fad0>"
      ]
     },
     "execution_count": 100,
     "metadata": {},
     "output_type": "execute_result"
    }
   ],
   "source": [
    "result['selected_matcher']"
   ]
  },
  {
   "cell_type": "code",
   "execution_count": 101,
   "metadata": {
    "collapsed": false
   },
   "outputs": [
    {
     "data": {
      "text/html": [
       "<div>\n",
       "<table border=\"1\" class=\"dataframe\">\n",
       "  <thead>\n",
       "    <tr style=\"text-align: right;\">\n",
       "      <th></th>\n",
       "      <th>Name</th>\n",
       "      <th>Matcher</th>\n",
       "      <th>Num folds</th>\n",
       "      <th>Fold 1</th>\n",
       "      <th>Fold 2</th>\n",
       "      <th>Fold 3</th>\n",
       "      <th>Fold 4</th>\n",
       "      <th>Fold 5</th>\n",
       "      <th>Mean score</th>\n",
       "    </tr>\n",
       "  </thead>\n",
       "  <tbody>\n",
       "    <tr>\n",
       "      <th>0</th>\n",
       "      <td>DecisionTree</td>\n",
       "      <td>&lt;magellan.matcher.dtmatcher.DTMatcher object a...</td>\n",
       "      <td>5</td>\n",
       "      <td>0.795918</td>\n",
       "      <td>0.805556</td>\n",
       "      <td>0.694444</td>\n",
       "      <td>0.720000</td>\n",
       "      <td>0.692308</td>\n",
       "      <td>0.741645</td>\n",
       "    </tr>\n",
       "    <tr>\n",
       "      <th>1</th>\n",
       "      <td>RF</td>\n",
       "      <td>&lt;magellan.matcher.rfmatcher.RFMatcher object a...</td>\n",
       "      <td>5</td>\n",
       "      <td>0.795918</td>\n",
       "      <td>0.805556</td>\n",
       "      <td>0.694444</td>\n",
       "      <td>0.720000</td>\n",
       "      <td>0.692308</td>\n",
       "      <td>0.741645</td>\n",
       "    </tr>\n",
       "    <tr>\n",
       "      <th>2</th>\n",
       "      <td>SVM_27608952182015486441</td>\n",
       "      <td>&lt;magellan.matcher.svmmatcher.SVMMatcher object...</td>\n",
       "      <td>5</td>\n",
       "      <td>0.795918</td>\n",
       "      <td>0.805556</td>\n",
       "      <td>0.694444</td>\n",
       "      <td>0.720000</td>\n",
       "      <td>0.692308</td>\n",
       "      <td>0.741645</td>\n",
       "    </tr>\n",
       "    <tr>\n",
       "      <th>3</th>\n",
       "      <td>NB</td>\n",
       "      <td>&lt;magellan.matcher.nbmatcher.NBMatcher object a...</td>\n",
       "      <td>5</td>\n",
       "      <td>0.666667</td>\n",
       "      <td>0.805556</td>\n",
       "      <td>0.694444</td>\n",
       "      <td>0.720000</td>\n",
       "      <td>0.692308</td>\n",
       "      <td>0.715795</td>\n",
       "    </tr>\n",
       "    <tr>\n",
       "      <th>4</th>\n",
       "      <td>LogReg</td>\n",
       "      <td>&lt;magellan.matcher.logregmatcher.LogRegMatcher ...</td>\n",
       "      <td>5</td>\n",
       "      <td>0.804348</td>\n",
       "      <td>0.794118</td>\n",
       "      <td>0.694444</td>\n",
       "      <td>0.714286</td>\n",
       "      <td>0.684211</td>\n",
       "      <td>0.738281</td>\n",
       "    </tr>\n",
       "    <tr>\n",
       "      <th>5</th>\n",
       "      <td>LinReg</td>\n",
       "      <td>&lt;magellan.matcher.linregmatcher.LinRegMatcher ...</td>\n",
       "      <td>5</td>\n",
       "      <td>0.795918</td>\n",
       "      <td>0.805556</td>\n",
       "      <td>0.694444</td>\n",
       "      <td>0.720000</td>\n",
       "      <td>0.692308</td>\n",
       "      <td>0.741645</td>\n",
       "    </tr>\n",
       "  </tbody>\n",
       "</table>\n",
       "</div>"
      ],
      "text/plain": [
       "                       Name  \\\n",
       "0              DecisionTree   \n",
       "1                        RF   \n",
       "2  SVM_27608952182015486441   \n",
       "3                        NB   \n",
       "4                    LogReg   \n",
       "5                    LinReg   \n",
       "\n",
       "                                             Matcher  Num folds    Fold 1  \\\n",
       "0  <magellan.matcher.dtmatcher.DTMatcher object a...          5  0.795918   \n",
       "1  <magellan.matcher.rfmatcher.RFMatcher object a...          5  0.795918   \n",
       "2  <magellan.matcher.svmmatcher.SVMMatcher object...          5  0.795918   \n",
       "3  <magellan.matcher.nbmatcher.NBMatcher object a...          5  0.666667   \n",
       "4  <magellan.matcher.logregmatcher.LogRegMatcher ...          5  0.804348   \n",
       "5  <magellan.matcher.linregmatcher.LinRegMatcher ...          5  0.795918   \n",
       "\n",
       "     Fold 2    Fold 3    Fold 4    Fold 5  Mean score  \n",
       "0  0.805556  0.694444  0.720000  0.692308    0.741645  \n",
       "1  0.805556  0.694444  0.720000  0.692308    0.741645  \n",
       "2  0.805556  0.694444  0.720000  0.692308    0.741645  \n",
       "3  0.805556  0.694444  0.720000  0.692308    0.715795  \n",
       "4  0.794118  0.694444  0.714286  0.684211    0.738281  \n",
       "5  0.805556  0.694444  0.720000  0.692308    0.741645  "
      ]
     },
     "execution_count": 101,
     "metadata": {},
     "output_type": "execute_result"
    }
   ],
   "source": [
    "result['cv_stats']"
   ]
  },
  {
   "cell_type": "code",
   "execution_count": 102,
   "metadata": {
    "collapsed": true
   },
   "outputs": [],
   "source": [
    "# Debug decision tree\n",
    "\n",
    "# Split feature vectors to train and test\n",
    "UV = mg.train_test_split(K, train_proportion=0.5, random_state=0)\n",
    "U = UV['train']\n",
    "V = UV['test']"
   ]
  },
  {
   "cell_type": "code",
   "execution_count": 103,
   "metadata": {
    "collapsed": true
   },
   "outputs": [],
   "source": [
    "mg.vis_debug_dt(dt, U, V, \n",
    "        exclude_attrs=['_id', 'ltable.id', 'rtable.id', 'gold'],\n",
    "        target_attr='gold')"
   ]
  },
  {
   "cell_type": "code",
   "execution_count": 104,
   "metadata": {
    "collapsed": false
   },
   "outputs": [],
   "source": [
    "# Add a feature for 'venue'\n",
    "# 1. create a feature\n",
    "# 2. Add the feature to feature table."
   ]
  },
  {
   "cell_type": "code",
   "execution_count": 105,
   "metadata": {
    "collapsed": false
   },
   "outputs": [],
   "source": [
    "# Create a feature\n",
    "feature = mg.get_feature_fn(\"lev(ltuple['venue'], rtuple['venue'])\", mg._match_t, mg._match_s)"
   ]
  },
  {
   "cell_type": "code",
   "execution_count": 106,
   "metadata": {
    "collapsed": false
   },
   "outputs": [
    {
     "data": {
      "text/plain": [
       "True"
      ]
     },
     "execution_count": 106,
     "metadata": {},
     "output_type": "execute_result"
    }
   ],
   "source": [
    "# Add feature to feature table\n",
    "mg.add_feature(feat_table, 'venue_venue_lev', feature)"
   ]
  },
  {
   "cell_type": "code",
   "execution_count": 107,
   "metadata": {
    "collapsed": false
   },
   "outputs": [
    {
     "data": {
      "text/html": [
       "<div>\n",
       "<table border=\"1\" class=\"dataframe\">\n",
       "  <thead>\n",
       "    <tr style=\"text-align: right;\">\n",
       "      <th></th>\n",
       "      <th>feature_name</th>\n",
       "      <th>left_attribute</th>\n",
       "      <th>right_attribute</th>\n",
       "      <th>left_attr_tokenizer</th>\n",
       "      <th>right_attr_tokenizer</th>\n",
       "      <th>simfunction</th>\n",
       "      <th>function</th>\n",
       "      <th>function_source</th>\n",
       "    </tr>\n",
       "  </thead>\n",
       "  <tbody>\n",
       "    <tr>\n",
       "      <th>0</th>\n",
       "      <td>title_title_jac_qgm_3_qgm_3</td>\n",
       "      <td>title</td>\n",
       "      <td>title</td>\n",
       "      <td>qgm_3</td>\n",
       "      <td>qgm_3</td>\n",
       "      <td>jaccard</td>\n",
       "      <td>&lt;function title_title_jac_qgm_3_qgm_3 at 0x11e...</td>\n",
       "      <td>from magellan.feature.simfunctions import *\\nf...</td>\n",
       "    </tr>\n",
       "    <tr>\n",
       "      <th>1</th>\n",
       "      <td>title_title_cos_dlm_dc0_dlm_dc0</td>\n",
       "      <td>title</td>\n",
       "      <td>title</td>\n",
       "      <td>dlm_dc0</td>\n",
       "      <td>dlm_dc0</td>\n",
       "      <td>cosine</td>\n",
       "      <td>&lt;function title_title_cos_dlm_dc0_dlm_dc0 at 0...</td>\n",
       "      <td>from magellan.feature.simfunctions import *\\nf...</td>\n",
       "    </tr>\n",
       "    <tr>\n",
       "      <th>2</th>\n",
       "      <td>title_title_mel</td>\n",
       "      <td>title</td>\n",
       "      <td>title</td>\n",
       "      <td>None</td>\n",
       "      <td>None</td>\n",
       "      <td>monge_elkan</td>\n",
       "      <td>&lt;function title_title_mel at 0x11f4760c8&gt;</td>\n",
       "      <td>from magellan.feature.simfunctions import *\\nf...</td>\n",
       "    </tr>\n",
       "    <tr>\n",
       "      <th>3</th>\n",
       "      <td>title_title_lev</td>\n",
       "      <td>title</td>\n",
       "      <td>title</td>\n",
       "      <td>None</td>\n",
       "      <td>None</td>\n",
       "      <td>lev</td>\n",
       "      <td>&lt;function title_title_lev at 0x11f476140&gt;</td>\n",
       "      <td>from magellan.feature.simfunctions import *\\nf...</td>\n",
       "    </tr>\n",
       "    <tr>\n",
       "      <th>4</th>\n",
       "      <td>authors_authors_jac_qgm_3_qgm_3</td>\n",
       "      <td>authors</td>\n",
       "      <td>authors</td>\n",
       "      <td>qgm_3</td>\n",
       "      <td>qgm_3</td>\n",
       "      <td>jaccard</td>\n",
       "      <td>&lt;function authors_authors_jac_qgm_3_qgm_3 at 0...</td>\n",
       "      <td>from magellan.feature.simfunctions import *\\nf...</td>\n",
       "    </tr>\n",
       "    <tr>\n",
       "      <th>5</th>\n",
       "      <td>authors_authors_cos_dlm_dc0_dlm_dc0</td>\n",
       "      <td>authors</td>\n",
       "      <td>authors</td>\n",
       "      <td>dlm_dc0</td>\n",
       "      <td>dlm_dc0</td>\n",
       "      <td>cosine</td>\n",
       "      <td>&lt;function authors_authors_cos_dlm_dc0_dlm_dc0 ...</td>\n",
       "      <td>from magellan.feature.simfunctions import *\\nf...</td>\n",
       "    </tr>\n",
       "    <tr>\n",
       "      <th>6</th>\n",
       "      <td>authors_authors_mel</td>\n",
       "      <td>authors</td>\n",
       "      <td>authors</td>\n",
       "      <td>None</td>\n",
       "      <td>None</td>\n",
       "      <td>monge_elkan</td>\n",
       "      <td>&lt;function authors_authors_mel at 0x11f476320&gt;</td>\n",
       "      <td>from magellan.feature.simfunctions import *\\nf...</td>\n",
       "    </tr>\n",
       "    <tr>\n",
       "      <th>7</th>\n",
       "      <td>authors_authors_lev</td>\n",
       "      <td>authors</td>\n",
       "      <td>authors</td>\n",
       "      <td>None</td>\n",
       "      <td>None</td>\n",
       "      <td>lev</td>\n",
       "      <td>&lt;function authors_authors_lev at 0x11f476398&gt;</td>\n",
       "      <td>from magellan.feature.simfunctions import *\\nf...</td>\n",
       "    </tr>\n",
       "    <tr>\n",
       "      <th>8</th>\n",
       "      <td>year_year_exm</td>\n",
       "      <td>year</td>\n",
       "      <td>year</td>\n",
       "      <td>None</td>\n",
       "      <td>None</td>\n",
       "      <td>exact_match</td>\n",
       "      <td>&lt;function year_year_exm at 0x11f476410&gt;</td>\n",
       "      <td>from magellan.feature.simfunctions import *\\nf...</td>\n",
       "    </tr>\n",
       "    <tr>\n",
       "      <th>9</th>\n",
       "      <td>year_year_anm</td>\n",
       "      <td>year</td>\n",
       "      <td>year</td>\n",
       "      <td>None</td>\n",
       "      <td>None</td>\n",
       "      <td>abs_norm</td>\n",
       "      <td>&lt;function year_year_anm at 0x11f476488&gt;</td>\n",
       "      <td>from magellan.feature.simfunctions import *\\nf...</td>\n",
       "    </tr>\n",
       "    <tr>\n",
       "      <th>10</th>\n",
       "      <td>year_year_lev</td>\n",
       "      <td>year</td>\n",
       "      <td>year</td>\n",
       "      <td>None</td>\n",
       "      <td>None</td>\n",
       "      <td>lev</td>\n",
       "      <td>&lt;function year_year_lev at 0x11f476500&gt;</td>\n",
       "      <td>from magellan.feature.simfunctions import *\\nf...</td>\n",
       "    </tr>\n",
       "    <tr>\n",
       "      <th>11</th>\n",
       "      <td>venue_venue_lev</td>\n",
       "      <td>venue</td>\n",
       "      <td>venue</td>\n",
       "      <td>PARSE_EXP</td>\n",
       "      <td>PARSE_EXP</td>\n",
       "      <td>lev</td>\n",
       "      <td>&lt;function fn at 0x11f4765f0&gt;</td>\n",
       "      <td>def fn(ltuple, rtuple):\\n    return lev(ltuple...</td>\n",
       "    </tr>\n",
       "  </tbody>\n",
       "</table>\n",
       "</div>"
      ],
      "text/plain": [
       "                           feature_name left_attribute right_attribute  \\\n",
       "0           title_title_jac_qgm_3_qgm_3          title           title   \n",
       "1       title_title_cos_dlm_dc0_dlm_dc0          title           title   \n",
       "2                       title_title_mel          title           title   \n",
       "3                       title_title_lev          title           title   \n",
       "4       authors_authors_jac_qgm_3_qgm_3        authors         authors   \n",
       "5   authors_authors_cos_dlm_dc0_dlm_dc0        authors         authors   \n",
       "6                   authors_authors_mel        authors         authors   \n",
       "7                   authors_authors_lev        authors         authors   \n",
       "8                         year_year_exm           year            year   \n",
       "9                         year_year_anm           year            year   \n",
       "10                        year_year_lev           year            year   \n",
       "11                      venue_venue_lev          venue           venue   \n",
       "\n",
       "   left_attr_tokenizer right_attr_tokenizer  simfunction  \\\n",
       "0                qgm_3                qgm_3      jaccard   \n",
       "1              dlm_dc0              dlm_dc0       cosine   \n",
       "2                 None                 None  monge_elkan   \n",
       "3                 None                 None          lev   \n",
       "4                qgm_3                qgm_3      jaccard   \n",
       "5              dlm_dc0              dlm_dc0       cosine   \n",
       "6                 None                 None  monge_elkan   \n",
       "7                 None                 None          lev   \n",
       "8                 None                 None  exact_match   \n",
       "9                 None                 None     abs_norm   \n",
       "10                None                 None          lev   \n",
       "11           PARSE_EXP            PARSE_EXP          lev   \n",
       "\n",
       "                                             function  \\\n",
       "0   <function title_title_jac_qgm_3_qgm_3 at 0x11e...   \n",
       "1   <function title_title_cos_dlm_dc0_dlm_dc0 at 0...   \n",
       "2           <function title_title_mel at 0x11f4760c8>   \n",
       "3           <function title_title_lev at 0x11f476140>   \n",
       "4   <function authors_authors_jac_qgm_3_qgm_3 at 0...   \n",
       "5   <function authors_authors_cos_dlm_dc0_dlm_dc0 ...   \n",
       "6       <function authors_authors_mel at 0x11f476320>   \n",
       "7       <function authors_authors_lev at 0x11f476398>   \n",
       "8             <function year_year_exm at 0x11f476410>   \n",
       "9             <function year_year_anm at 0x11f476488>   \n",
       "10            <function year_year_lev at 0x11f476500>   \n",
       "11                       <function fn at 0x11f4765f0>   \n",
       "\n",
       "                                      function_source  \n",
       "0   from magellan.feature.simfunctions import *\\nf...  \n",
       "1   from magellan.feature.simfunctions import *\\nf...  \n",
       "2   from magellan.feature.simfunctions import *\\nf...  \n",
       "3   from magellan.feature.simfunctions import *\\nf...  \n",
       "4   from magellan.feature.simfunctions import *\\nf...  \n",
       "5   from magellan.feature.simfunctions import *\\nf...  \n",
       "6   from magellan.feature.simfunctions import *\\nf...  \n",
       "7   from magellan.feature.simfunctions import *\\nf...  \n",
       "8   from magellan.feature.simfunctions import *\\nf...  \n",
       "9   from magellan.feature.simfunctions import *\\nf...  \n",
       "10  from magellan.feature.simfunctions import *\\nf...  \n",
       "11  def fn(ltuple, rtuple):\\n    return lev(ltuple...  "
      ]
     },
     "execution_count": 107,
     "metadata": {},
     "output_type": "execute_result"
    }
   ],
   "source": [
    "feat_table"
   ]
  },
  {
   "cell_type": "code",
   "execution_count": 108,
   "metadata": {
    "collapsed": true
   },
   "outputs": [],
   "source": [
    "# Select 'year'  + 'venue' related features\n",
    "feat_subset_iter2 = feat_table[8:12]"
   ]
  },
  {
   "cell_type": "code",
   "execution_count": 109,
   "metadata": {
    "collapsed": false
   },
   "outputs": [
    {
     "data": {
      "text/html": [
       "<div>\n",
       "<table border=\"1\" class=\"dataframe\">\n",
       "  <thead>\n",
       "    <tr style=\"text-align: right;\">\n",
       "      <th></th>\n",
       "      <th>feature_name</th>\n",
       "      <th>left_attribute</th>\n",
       "      <th>right_attribute</th>\n",
       "      <th>left_attr_tokenizer</th>\n",
       "      <th>right_attr_tokenizer</th>\n",
       "      <th>simfunction</th>\n",
       "      <th>function</th>\n",
       "      <th>function_source</th>\n",
       "    </tr>\n",
       "  </thead>\n",
       "  <tbody>\n",
       "    <tr>\n",
       "      <th>8</th>\n",
       "      <td>year_year_exm</td>\n",
       "      <td>year</td>\n",
       "      <td>year</td>\n",
       "      <td>None</td>\n",
       "      <td>None</td>\n",
       "      <td>exact_match</td>\n",
       "      <td>&lt;function year_year_exm at 0x11f476410&gt;</td>\n",
       "      <td>from magellan.feature.simfunctions import *\\nf...</td>\n",
       "    </tr>\n",
       "    <tr>\n",
       "      <th>9</th>\n",
       "      <td>year_year_anm</td>\n",
       "      <td>year</td>\n",
       "      <td>year</td>\n",
       "      <td>None</td>\n",
       "      <td>None</td>\n",
       "      <td>abs_norm</td>\n",
       "      <td>&lt;function year_year_anm at 0x11f476488&gt;</td>\n",
       "      <td>from magellan.feature.simfunctions import *\\nf...</td>\n",
       "    </tr>\n",
       "    <tr>\n",
       "      <th>10</th>\n",
       "      <td>year_year_lev</td>\n",
       "      <td>year</td>\n",
       "      <td>year</td>\n",
       "      <td>None</td>\n",
       "      <td>None</td>\n",
       "      <td>lev</td>\n",
       "      <td>&lt;function year_year_lev at 0x11f476500&gt;</td>\n",
       "      <td>from magellan.feature.simfunctions import *\\nf...</td>\n",
       "    </tr>\n",
       "    <tr>\n",
       "      <th>11</th>\n",
       "      <td>venue_venue_lev</td>\n",
       "      <td>venue</td>\n",
       "      <td>venue</td>\n",
       "      <td>PARSE_EXP</td>\n",
       "      <td>PARSE_EXP</td>\n",
       "      <td>lev</td>\n",
       "      <td>&lt;function fn at 0x11f4765f0&gt;</td>\n",
       "      <td>def fn(ltuple, rtuple):\\n    return lev(ltuple...</td>\n",
       "    </tr>\n",
       "  </tbody>\n",
       "</table>\n",
       "</div>"
      ],
      "text/plain": [
       "       feature_name left_attribute right_attribute left_attr_tokenizer  \\\n",
       "8     year_year_exm           year            year                None   \n",
       "9     year_year_anm           year            year                None   \n",
       "10    year_year_lev           year            year                None   \n",
       "11  venue_venue_lev          venue           venue           PARSE_EXP   \n",
       "\n",
       "   right_attr_tokenizer  simfunction                                 function  \\\n",
       "8                  None  exact_match  <function year_year_exm at 0x11f476410>   \n",
       "9                  None     abs_norm  <function year_year_anm at 0x11f476488>   \n",
       "10                 None          lev  <function year_year_lev at 0x11f476500>   \n",
       "11            PARSE_EXP          lev             <function fn at 0x11f4765f0>   \n",
       "\n",
       "                                      function_source  \n",
       "8   from magellan.feature.simfunctions import *\\nf...  \n",
       "9   from magellan.feature.simfunctions import *\\nf...  \n",
       "10  from magellan.feature.simfunctions import *\\nf...  \n",
       "11  def fn(ltuple, rtuple):\\n    return lev(ltuple...  "
      ]
     },
     "execution_count": 109,
     "metadata": {},
     "output_type": "execute_result"
    }
   ],
   "source": [
    "feat_subset_iter2"
   ]
  },
  {
   "cell_type": "code",
   "execution_count": 110,
   "metadata": {
    "collapsed": true
   },
   "outputs": [],
   "source": [
    "# Get new set of features\n",
    "K = mg.extract_feature_vecs(I, feature_table=feat_subset_iter2, attrs_after='gold')\n",
    "# impute K\n",
    "K.fillna(0, inplace=True)\n"
   ]
  },
  {
   "cell_type": "code",
   "execution_count": 111,
   "metadata": {
    "collapsed": true
   },
   "outputs": [],
   "source": [
    "# Split feature vectors into U and V\n",
    "UV = mg.train_test_split(K, train_proportion=0.5, random_state=0)\n",
    "U = UV['train']\n",
    "V = UV['test']"
   ]
  },
  {
   "cell_type": "code",
   "execution_count": 112,
   "metadata": {
    "collapsed": true
   },
   "outputs": [],
   "source": [
    "# Check whether the added features improves the accuracy in the test set.\n",
    "# Steps\n",
    "# 1. Train DT using U\n",
    "# 2. Predict V using DT\n",
    "# 3. Evaluate predictions\n"
   ]
  },
  {
   "cell_type": "code",
   "execution_count": 113,
   "metadata": {
    "collapsed": true
   },
   "outputs": [],
   "source": [
    "# Train dt using U\n",
    "dt.fit(table=U, \n",
    "       exclude_attrs=['_id', 'ltable.id', 'rtable.id', 'gold'], \n",
    "       target_attr='gold')"
   ]
  },
  {
   "cell_type": "code",
   "execution_count": 114,
   "metadata": {
    "collapsed": true
   },
   "outputs": [],
   "source": [
    "# Predict V using dt\n",
    "P = dt.predict(table=V, exclude_attrs=['_id', 'ltable.id', 'rtable.id', 'gold'], \n",
    "              append=True, target_attr='predicted', inplace=False)"
   ]
  },
  {
   "cell_type": "code",
   "execution_count": 115,
   "metadata": {
    "collapsed": false
   },
   "outputs": [
    {
     "name": "stdout",
     "output_type": "stream",
     "text": [
      "Precision : 89.53% (77/86)\n",
      "Recall : 96.25% (77/80)\n",
      "F1 : 92.77%\n",
      "False positives : 9 (out of 86 positive predictions)\n",
      "False negatives : 3 (out of 59 negative predictions)\n"
     ]
    }
   ],
   "source": [
    "# Evaluate the predictions\n",
    "eval_result = mg.eval_matches(P, 'gold', 'predicted')\n",
    "mg.print_eval_summary(eval_result)\n"
   ]
  },
  {
   "cell_type": "code",
   "execution_count": 116,
   "metadata": {
    "collapsed": true
   },
   "outputs": [],
   "source": [
    "# Apply cross validation to find if there is a better matcher\n",
    "result = mg.select_matcher([dt, rf, svm, nb, lg, ln], table=K, \n",
    "        exclude_attrs=['_id', 'ltable.id', 'rtable.id', 'gold'],\n",
    "        target_attr='gold', metric='f1') "
   ]
  },
  {
   "cell_type": "code",
   "execution_count": 117,
   "metadata": {
    "collapsed": false
   },
   "outputs": [
    {
     "data": {
      "text/html": [
       "<div>\n",
       "<table border=\"1\" class=\"dataframe\">\n",
       "  <thead>\n",
       "    <tr style=\"text-align: right;\">\n",
       "      <th></th>\n",
       "      <th>Name</th>\n",
       "      <th>Matcher</th>\n",
       "      <th>Num folds</th>\n",
       "      <th>Fold 1</th>\n",
       "      <th>Fold 2</th>\n",
       "      <th>Fold 3</th>\n",
       "      <th>Fold 4</th>\n",
       "      <th>Fold 5</th>\n",
       "      <th>Mean score</th>\n",
       "    </tr>\n",
       "  </thead>\n",
       "  <tbody>\n",
       "    <tr>\n",
       "      <th>0</th>\n",
       "      <td>DecisionTree</td>\n",
       "      <td>&lt;magellan.matcher.dtmatcher.DTMatcher object a...</td>\n",
       "      <td>5</td>\n",
       "      <td>0.944444</td>\n",
       "      <td>0.909091</td>\n",
       "      <td>0.823529</td>\n",
       "      <td>0.918919</td>\n",
       "      <td>0.970588</td>\n",
       "      <td>0.913314</td>\n",
       "    </tr>\n",
       "    <tr>\n",
       "      <th>1</th>\n",
       "      <td>RF</td>\n",
       "      <td>&lt;magellan.matcher.rfmatcher.RFMatcher object a...</td>\n",
       "      <td>5</td>\n",
       "      <td>0.903226</td>\n",
       "      <td>0.942857</td>\n",
       "      <td>0.945946</td>\n",
       "      <td>0.866667</td>\n",
       "      <td>0.939394</td>\n",
       "      <td>0.919618</td>\n",
       "    </tr>\n",
       "    <tr>\n",
       "      <th>2</th>\n",
       "      <td>SVM_27608952182015486441</td>\n",
       "      <td>&lt;magellan.matcher.svmmatcher.SVMMatcher object...</td>\n",
       "      <td>5</td>\n",
       "      <td>0.783784</td>\n",
       "      <td>0.853333</td>\n",
       "      <td>0.885714</td>\n",
       "      <td>0.868421</td>\n",
       "      <td>0.823529</td>\n",
       "      <td>0.842956</td>\n",
       "    </tr>\n",
       "    <tr>\n",
       "      <th>3</th>\n",
       "      <td>NB</td>\n",
       "      <td>&lt;magellan.matcher.nbmatcher.NBMatcher object a...</td>\n",
       "      <td>5</td>\n",
       "      <td>0.787879</td>\n",
       "      <td>0.876712</td>\n",
       "      <td>0.811594</td>\n",
       "      <td>0.894737</td>\n",
       "      <td>0.391304</td>\n",
       "      <td>0.752445</td>\n",
       "    </tr>\n",
       "    <tr>\n",
       "      <th>4</th>\n",
       "      <td>LogReg</td>\n",
       "      <td>&lt;magellan.matcher.logregmatcher.LogRegMatcher ...</td>\n",
       "      <td>5</td>\n",
       "      <td>0.839506</td>\n",
       "      <td>0.916667</td>\n",
       "      <td>0.783784</td>\n",
       "      <td>0.800000</td>\n",
       "      <td>0.849315</td>\n",
       "      <td>0.837854</td>\n",
       "    </tr>\n",
       "    <tr>\n",
       "      <th>5</th>\n",
       "      <td>LinReg</td>\n",
       "      <td>&lt;magellan.matcher.linregmatcher.LinRegMatcher ...</td>\n",
       "      <td>5</td>\n",
       "      <td>0.883117</td>\n",
       "      <td>0.876712</td>\n",
       "      <td>0.840580</td>\n",
       "      <td>0.918919</td>\n",
       "      <td>0.739726</td>\n",
       "      <td>0.851811</td>\n",
       "    </tr>\n",
       "  </tbody>\n",
       "</table>\n",
       "</div>"
      ],
      "text/plain": [
       "                       Name  \\\n",
       "0              DecisionTree   \n",
       "1                        RF   \n",
       "2  SVM_27608952182015486441   \n",
       "3                        NB   \n",
       "4                    LogReg   \n",
       "5                    LinReg   \n",
       "\n",
       "                                             Matcher  Num folds    Fold 1  \\\n",
       "0  <magellan.matcher.dtmatcher.DTMatcher object a...          5  0.944444   \n",
       "1  <magellan.matcher.rfmatcher.RFMatcher object a...          5  0.903226   \n",
       "2  <magellan.matcher.svmmatcher.SVMMatcher object...          5  0.783784   \n",
       "3  <magellan.matcher.nbmatcher.NBMatcher object a...          5  0.787879   \n",
       "4  <magellan.matcher.logregmatcher.LogRegMatcher ...          5  0.839506   \n",
       "5  <magellan.matcher.linregmatcher.LinRegMatcher ...          5  0.883117   \n",
       "\n",
       "     Fold 2    Fold 3    Fold 4    Fold 5  Mean score  \n",
       "0  0.909091  0.823529  0.918919  0.970588    0.913314  \n",
       "1  0.942857  0.945946  0.866667  0.939394    0.919618  \n",
       "2  0.853333  0.885714  0.868421  0.823529    0.842956  \n",
       "3  0.876712  0.811594  0.894737  0.391304    0.752445  \n",
       "4  0.916667  0.783784  0.800000  0.849315    0.837854  \n",
       "5  0.876712  0.840580  0.918919  0.739726    0.851811  "
      ]
     },
     "execution_count": 117,
     "metadata": {},
     "output_type": "execute_result"
    }
   ],
   "source": [
    "result['cv_stats']"
   ]
  },
  {
   "cell_type": "code",
   "execution_count": null,
   "metadata": {
    "collapsed": true
   },
   "outputs": [],
   "source": [
    "# Select DT as the best matcher -- Y\n",
    "# Use year + venue related features"
   ]
  },
  {
   "cell_type": "code",
   "execution_count": null,
   "metadata": {
    "collapsed": true
   },
   "outputs": [],
   "source": [
    "# Add triggers on top of Y\n",
    "\n",
    "# 1. Split K into U and V\n",
    "# 2. Use U,V  + Y to write triggers (examine fp, fn).\n"
   ]
  },
  {
   "cell_type": "code",
   "execution_count": null,
   "metadata": {
    "collapsed": true
   },
   "outputs": [],
   "source": [
    "# Split feature vectors to U and V\n",
    "UV = mg.train_test_split(K, train_proportion=0.5, random_state=0)\n",
    "U = UV['train']\n",
    "V = UV['test']"
   ]
  },
  {
   "cell_type": "code",
   "execution_count": null,
   "metadata": {
    "collapsed": true
   },
   "outputs": [],
   "source": [
    "# Invoke debug interface to check FP and FN\n",
    "mg.vis_debug_dt(dt, U, V, \n",
    "        exclude_attrs=['_id', 'ltable.id', 'rtable.id', 'gold'],\n",
    "        target_attr='gold')"
   ]
  },
  {
   "cell_type": "code",
   "execution_count": null,
   "metadata": {
    "collapsed": false
   },
   "outputs": [],
   "source": [
    "# Add trigger - target false positives: use title related feature\n",
    "neg_trigger = mg.MatchTrigger()\n",
    "neg_trigger.add_cond_rule('title_title_jac_qgm_3_qgm_3(ltuple, rtuple) < 0.4', feat_table)\n",
    "neg_trigger.add_cond_status(True)\n",
    "neg_trigger.add_action(0)"
   ]
  },
  {
   "cell_type": "code",
   "execution_count": null,
   "metadata": {
    "collapsed": true
   },
   "outputs": [],
   "source": [
    "# Check whether the added trigger improves the accuracy in the test set.\n",
    "# Steps\n",
    "# 1. Train DT using U\n",
    "# 2. Predict V using DT\n",
    "# 3. Apply trigger\n",
    "# 4. Evaluate the result"
   ]
  },
  {
   "cell_type": "code",
   "execution_count": null,
   "metadata": {
    "collapsed": true
   },
   "outputs": [],
   "source": [
    "# Train dt using U\n",
    "dt.fit(table=U, \n",
    "       exclude_attrs=['_id', 'ltable.id', 'rtable.id', 'gold'], \n",
    "       target_attr='gold')"
   ]
  },
  {
   "cell_type": "code",
   "execution_count": null,
   "metadata": {
    "collapsed": true
   },
   "outputs": [],
   "source": [
    "# Predict V using dt\n",
    "P = dt.predict(table=V, exclude_attrs=['_id', 'ltable.id', 'rtable.id', 'gold'], \n",
    "              append=True, target_attr='predicted', inplace=False)"
   ]
  },
  {
   "cell_type": "code",
   "execution_count": null,
   "metadata": {
    "collapsed": true
   },
   "outputs": [],
   "source": [
    "# Apply trigger\n",
    "Q = neg_trigger.execute(P, 'predicted', inplace=False)"
   ]
  },
  {
   "cell_type": "code",
   "execution_count": null,
   "metadata": {
    "collapsed": false
   },
   "outputs": [],
   "source": [
    "# Evaluate the result\n",
    "eval_result = mg.eval_matches(Q, 'predicted', 'gold')\n",
    "mg.print_eval_summary(eval_result)"
   ]
  },
  {
   "cell_type": "code",
   "execution_count": null,
   "metadata": {
    "collapsed": false
   },
   "outputs": [],
   "source": [
    "# Do cross-validation for matcher + trigger using I (K)\n",
    "result = mg.cv_matcher_and_trigger(dt, neg_trigger, table = K, \n",
    "                                   exclude_attrs=['_id', 'ltable.id', 'rtable.id', 'gold'],\n",
    "                                  target_attr='gold')\n"
   ]
  },
  {
   "cell_type": "code",
   "execution_count": null,
   "metadata": {
    "collapsed": false
   },
   "outputs": [],
   "source": [
    "result['cv_stats']"
   ]
  },
  {
   "cell_type": "code",
   "execution_count": null,
   "metadata": {
    "collapsed": false
   },
   "outputs": [],
   "source": [
    "# Recall the cv for just the matcher (without trigger) was\n",
    "result = mg.cv_matcher_and_trigger(dt, [], table = K, \n",
    "                                   exclude_attrs=['_id', 'ltable.id', 'rtable.id', 'gold'],\n",
    "                                  target_attr='gold')"
   ]
  },
  {
   "cell_type": "code",
   "execution_count": null,
   "metadata": {
    "collapsed": false
   },
   "outputs": [],
   "source": [
    "result['cv_stats']"
   ]
  },
  {
   "cell_type": "code",
   "execution_count": null,
   "metadata": {
    "collapsed": true
   },
   "outputs": [],
   "source": [
    "# Now Z is DT (features: feat_subset_iter2) + neg_trigger\n",
    "# Validate Z using J\n",
    "# Steps\n",
    "# 1. Extract feature vectors (using feat_subset_iter2) -- > M\n",
    "# 2. Train DT using H (feature vectors generated using I)\n",
    "# 3. Predict M using DT\n",
    "# 4. Apply negative trigger\n",
    "# 5. Evaluate the result"
   ]
  },
  {
   "cell_type": "code",
   "execution_count": null,
   "metadata": {
    "collapsed": true
   },
   "outputs": [],
   "source": [
    "# Extract feature vectors\n",
    "M = mg.extract_feature_vecs(J, feature_table=feat_subset_iter2, attrs_after='gold')"
   ]
  },
  {
   "cell_type": "code",
   "execution_count": null,
   "metadata": {
    "collapsed": true
   },
   "outputs": [],
   "source": [
    "# Impute missing values\n",
    "M.fillna(0, inplace=True)"
   ]
  },
  {
   "cell_type": "code",
   "execution_count": null,
   "metadata": {
    "collapsed": true
   },
   "outputs": [],
   "source": [
    "# Train using feature vectors from I \n",
    "dt.fit(table=K, \n",
    "       exclude_attrs=['_id', 'ltable.id', 'rtable.id', 'gold'], \n",
    "       target_attr='gold')"
   ]
  },
  {
   "cell_type": "code",
   "execution_count": null,
   "metadata": {
    "collapsed": true
   },
   "outputs": [],
   "source": [
    "# Predict M \n",
    "N = dt.predict(table=M, exclude_attrs=['_id', 'ltable.id', 'rtable.id', 'gold'], \n",
    "              append=True, target_attr='predicted', inplace=False)"
   ]
  },
  {
   "cell_type": "code",
   "execution_count": null,
   "metadata": {
    "collapsed": true
   },
   "outputs": [],
   "source": [
    "# Apply trigger\n",
    "T = neg_trigger.execute(N, 'predicted', inplace=False)"
   ]
  },
  {
   "cell_type": "code",
   "execution_count": null,
   "metadata": {
    "collapsed": false
   },
   "outputs": [],
   "source": [
    "# Evaluate the result\n",
    "eval_result = mg.eval_matches(T, 'gold', 'predicted')\n",
    "mg.print_eval_summary(eval_result)\n"
   ]
  },
  {
   "cell_type": "code",
   "execution_count": null,
   "metadata": {
    "collapsed": false
   },
   "outputs": [],
   "source": [
    "T.to_csv('final_matches.csv')"
   ]
  }
 ],
 "metadata": {
  "kernelspec": {
   "display_name": "Python 2",
   "language": "python",
   "name": "python2"
  },
  "language_info": {
   "codemirror_mode": {
    "name": "ipython",
    "version": 2
   },
   "file_extension": ".py",
   "mimetype": "text/x-python",
   "name": "python",
   "nbconvert_exporter": "python",
   "pygments_lexer": "ipython2",
   "version": "2.7.10"
  }
 },
 "nbformat": 4,
 "nbformat_minor": 0
}
